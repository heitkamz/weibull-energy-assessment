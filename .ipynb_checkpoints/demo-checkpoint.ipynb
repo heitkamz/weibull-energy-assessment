{
 "cells": [
  {
   "cell_type": "markdown",
   "id": "032fced2",
   "metadata": {},
   "source": [
    "# WEIBULL ENERGY ASSESSMENT"
   ]
  },
  {
   "cell_type": "markdown",
   "id": "954cbfb2",
   "metadata": {},
   "source": [
    "## Step 1: Setup the analysis"
   ]
  },
  {
   "cell_type": "markdown",
   "id": "e05b2ce7",
   "metadata": {},
   "source": [
    "#### >>> import the required modules"
   ]
  },
  {
   "cell_type": "code",
   "execution_count": 2,
   "id": "18f9b9ff",
   "metadata": {},
   "outputs": [],
   "source": [
    "from energy_production import weibull, weibull_energy_estimator\n",
    "from plant_info import turbine\n",
    "from power_analysis import power_modeler\n",
    "import pandas as pd"
   ]
  },
  {
   "cell_type": "markdown",
   "id": "cc456cd6",
   "metadata": {},
   "source": [
    "#### >>> load turbine data and attribute database"
   ]
  },
  {
   "cell_type": "code",
   "execution_count": 3,
   "id": "dab37f90",
   "metadata": {},
   "outputs": [],
   "source": [
    "turbine_info_db = pd.read_excel('data/turbine_info_db.xlsx')\n",
    "data = pd.read_csv('data/simulated_turbine_data.csv')"
   ]
  },
  {
   "cell_type": "markdown",
   "id": "2be5f91e",
   "metadata": {},
   "source": [
    "#### >>> Instantiate analysis turbine"
   ]
  },
  {
   "cell_type": "code",
   "execution_count": 6,
   "id": "e25e4059",
   "metadata": {},
   "outputs": [],
   "source": [
    "t = turbine.Turbine(t_id='T01', turbine_info_db=turbine_info_db)"
   ]
  },
  {
   "cell_type": "markdown",
   "id": "f49e24db",
   "metadata": {},
   "source": [
    "## Step 2: Assess energy potential"
   ]
  },
  {
   "cell_type": "markdown",
   "id": "d8f44574",
   "metadata": {},
   "source": [
    "#### >>> Use the weibull shape and scale parameters assocaited with the turbine's location to instantiate the weibull object"
   ]
  },
  {
   "cell_type": "code",
   "execution_count": 7,
   "id": "603ea499",
   "metadata": {},
   "outputs": [],
   "source": [
    "weibull = weibull.Weibull(a=t.weibull_a, k=t.weibull_k)"
   ]
  },
  {
   "cell_type": "markdown",
   "id": "22d8b82b",
   "metadata": {},
   "source": [
    "#### >>> Get basic wind resource info from weibull object"
   ]
  },
  {
   "cell_type": "code",
   "execution_count": 8,
   "id": "28d7fecb",
   "metadata": {},
   "outputs": [
    {
     "data": {
      "text/plain": [
       "8.354869711761411"
      ]
     },
     "execution_count": 8,
     "metadata": {},
     "output_type": "execute_result"
    }
   ],
   "source": [
    "# mean wind speed\n",
    "weibull.mean"
   ]
  },
  {
   "cell_type": "code",
   "execution_count": null,
   "id": "2d97ebf1",
   "metadata": {},
   "outputs": [],
   "source": []
  },
  {
   "cell_type": "code",
   "execution_count": null,
   "id": "895dc965",
   "metadata": {},
   "outputs": [],
   "source": []
  }
 ],
 "metadata": {
  "kernelspec": {
   "display_name": "Python 3 (ipykernel)",
   "language": "python",
   "name": "python3"
  },
  "language_info": {
   "codemirror_mode": {
    "name": "ipython",
    "version": 3
   },
   "file_extension": ".py",
   "mimetype": "text/x-python",
   "name": "python",
   "nbconvert_exporter": "python",
   "pygments_lexer": "ipython3",
   "version": "3.9.4"
  }
 },
 "nbformat": 4,
 "nbformat_minor": 5
}
